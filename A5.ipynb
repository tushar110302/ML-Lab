{
 "cells": [
  {
   "cell_type": "code",
   "execution_count": 2,
   "id": "373ae4ad",
   "metadata": {},
   "outputs": [],
   "source": [
    "import pandas as pd\n",
    "import matplotlib.pyplot as plt"
   ]
  },
  {
   "cell_type": "code",
   "execution_count": 3,
   "id": "1e372954",
   "metadata": {},
   "outputs": [],
   "source": [
    "df=pd.read_csv(\"/home/dslab/Downloads/std1.csv\")"
   ]
  },
  {
   "cell_type": "code",
   "execution_count": 4,
   "id": "62e53b38",
   "metadata": {},
   "outputs": [
    {
     "data": {
      "text/html": [
       "<div>\n",
       "<style scoped>\n",
       "    .dataframe tbody tr th:only-of-type {\n",
       "        vertical-align: middle;\n",
       "    }\n",
       "\n",
       "    .dataframe tbody tr th {\n",
       "        vertical-align: top;\n",
       "    }\n",
       "\n",
       "    .dataframe thead th {\n",
       "        text-align: right;\n",
       "    }\n",
       "</style>\n",
       "<table border=\"1\" class=\"dataframe\">\n",
       "  <thead>\n",
       "    <tr style=\"text-align: right;\">\n",
       "      <th></th>\n",
       "      <th>Hours</th>\n",
       "      <th>Scores</th>\n",
       "    </tr>\n",
       "  </thead>\n",
       "  <tbody>\n",
       "    <tr>\n",
       "      <th>0</th>\n",
       "      <td>3</td>\n",
       "      <td>1.0</td>\n",
       "    </tr>\n",
       "    <tr>\n",
       "      <th>1</th>\n",
       "      <td>4</td>\n",
       "      <td>3.0</td>\n",
       "    </tr>\n",
       "    <tr>\n",
       "      <th>2</th>\n",
       "      <td>1</td>\n",
       "      <td>5.0</td>\n",
       "    </tr>\n",
       "    <tr>\n",
       "      <th>3</th>\n",
       "      <td>2</td>\n",
       "      <td>4.0</td>\n",
       "    </tr>\n",
       "    <tr>\n",
       "      <th>4</th>\n",
       "      <td>4</td>\n",
       "      <td>2.0</td>\n",
       "    </tr>\n",
       "    <tr>\n",
       "      <th>5</th>\n",
       "      <td>6</td>\n",
       "      <td>3.2</td>\n",
       "    </tr>\n",
       "    <tr>\n",
       "      <th>6</th>\n",
       "      <td>3</td>\n",
       "      <td>2.6</td>\n",
       "    </tr>\n",
       "  </tbody>\n",
       "</table>\n",
       "</div>"
      ],
      "text/plain": [
       "   Hours  Scores\n",
       "0      3     1.0\n",
       "1      4     3.0\n",
       "2      1     5.0\n",
       "3      2     4.0\n",
       "4      4     2.0\n",
       "5      6     3.2\n",
       "6      3     2.6"
      ]
     },
     "execution_count": 4,
     "metadata": {},
     "output_type": "execute_result"
    }
   ],
   "source": [
    "df"
   ]
  },
  {
   "cell_type": "code",
   "execution_count": 5,
   "id": "33363c92",
   "metadata": {},
   "outputs": [
    {
     "data": {
      "image/png": "[encoded data removed]",
      "text/plain": [
       "<Figure size 432x288 with 1 Axes>"
      ]
     },
     "metadata": {
      "needs_background": "light"
     },
     "output_type": "display_data"
    }
   ],
   "source": [
    "df.plot(x=\"Hours\", y=\"Scores\", style=\"o\")\n",
    "plt.show()\n"
   ]
  },
  {
   "cell_type": "code",
   "execution_count": 6,
   "id": "a5dd94f6",
   "metadata": {},
   "outputs": [
    {
     "name": "stdout",
     "output_type": "stream",
     "text": [
      "3.2857142857142856 2.9714285714285715\n"
     ]
    }
   ],
   "source": [
    "x_mean = df[\"Hours\"].mean()\n",
    "y_mean = df[\"Scores\"].mean()\n",
    "print(x_mean, y_mean)"
   ]
  },
  {
   "cell_type": "code",
   "execution_count": 7,
   "id": "f71c1633",
   "metadata": {},
   "outputs": [
    {
     "data": {
      "text/html": [
       "<div>\n",
       "<style scoped>\n",
       "    .dataframe tbody tr th:only-of-type {\n",
       "        vertical-align: middle;\n",
       "    }\n",
       "\n",
       "    .dataframe tbody tr th {\n",
       "        vertical-align: top;\n",
       "    }\n",
       "\n",
       "    .dataframe thead th {\n",
       "        text-align: right;\n",
       "    }\n",
       "</style>\n",
       "<table border=\"1\" class=\"dataframe\">\n",
       "  <thead>\n",
       "    <tr style=\"text-align: right;\">\n",
       "      <th></th>\n",
       "      <th>Hours</th>\n",
       "      <th>Scores</th>\n",
       "      <th>x</th>\n",
       "      <th>y</th>\n",
       "      <th>x*y</th>\n",
       "      <th>x^2</th>\n",
       "      <th>y^2</th>\n",
       "    </tr>\n",
       "  </thead>\n",
       "  <tbody>\n",
       "    <tr>\n",
       "      <th>0</th>\n",
       "      <td>3</td>\n",
       "      <td>1.0</td>\n",
       "      <td>-0.285714</td>\n",
       "      <td>-1.971429</td>\n",
       "      <td>0.563265</td>\n",
       "      <td>0.081633</td>\n",
       "      <td>3.886531</td>\n",
       "    </tr>\n",
       "    <tr>\n",
       "      <th>1</th>\n",
       "      <td>4</td>\n",
       "      <td>3.0</td>\n",
       "      <td>0.714286</td>\n",
       "      <td>0.028571</td>\n",
       "      <td>0.020408</td>\n",
       "      <td>0.510204</td>\n",
       "      <td>0.000816</td>\n",
       "    </tr>\n",
       "    <tr>\n",
       "      <th>2</th>\n",
       "      <td>1</td>\n",
       "      <td>5.0</td>\n",
       "      <td>-2.285714</td>\n",
       "      <td>2.028571</td>\n",
       "      <td>-4.636735</td>\n",
       "      <td>5.224490</td>\n",
       "      <td>4.115102</td>\n",
       "    </tr>\n",
       "    <tr>\n",
       "      <th>3</th>\n",
       "      <td>2</td>\n",
       "      <td>4.0</td>\n",
       "      <td>-1.285714</td>\n",
       "      <td>1.028571</td>\n",
       "      <td>-1.322449</td>\n",
       "      <td>1.653061</td>\n",
       "      <td>1.057959</td>\n",
       "    </tr>\n",
       "    <tr>\n",
       "      <th>4</th>\n",
       "      <td>4</td>\n",
       "      <td>2.0</td>\n",
       "      <td>0.714286</td>\n",
       "      <td>-0.971429</td>\n",
       "      <td>-0.693878</td>\n",
       "      <td>0.510204</td>\n",
       "      <td>0.943673</td>\n",
       "    </tr>\n",
       "    <tr>\n",
       "      <th>5</th>\n",
       "      <td>6</td>\n",
       "      <td>3.2</td>\n",
       "      <td>2.714286</td>\n",
       "      <td>0.228571</td>\n",
       "      <td>0.620408</td>\n",
       "      <td>7.367347</td>\n",
       "      <td>0.052245</td>\n",
       "    </tr>\n",
       "    <tr>\n",
       "      <th>6</th>\n",
       "      <td>3</td>\n",
       "      <td>2.6</td>\n",
       "      <td>-0.285714</td>\n",
       "      <td>-0.371429</td>\n",
       "      <td>0.106122</td>\n",
       "      <td>0.081633</td>\n",
       "      <td>0.137959</td>\n",
       "    </tr>\n",
       "  </tbody>\n",
       "</table>\n",
       "</div>"
      ],
      "text/plain": [
       "   Hours  Scores         x         y       x*y       x^2       y^2\n",
       "0      3     1.0 -0.285714 -1.971429  0.563265  0.081633  3.886531\n",
       "1      4     3.0  0.714286  0.028571  0.020408  0.510204  0.000816\n",
       "2      1     5.0 -2.285714  2.028571 -4.636735  5.224490  4.115102\n",
       "3      2     4.0 -1.285714  1.028571 -1.322449  1.653061  1.057959\n",
       "4      4     2.0  0.714286 -0.971429 -0.693878  0.510204  0.943673\n",
       "5      6     3.2  2.714286  0.228571  0.620408  7.367347  0.052245\n",
       "6      3     2.6 -0.285714 -0.371429  0.106122  0.081633  0.137959"
      ]
     },
     "execution_count": 7,
     "metadata": {},
     "output_type": "execute_result"
    }
   ],
   "source": [
    "\n",
    "df[\"x\"] = df[\"Hours\"] - x_mean\n",
    "df[\"y\"] = df[\"Scores\"] - y_mean\n",
    "df[\"x*y\"] = df[\"x\"] * df[\"y\"]\n",
    "df[\"x^2\"] = df[\"x\"]**2\n",
    "df[\"y^2\"] = df[\"y\"]**2\n",
    "df"
   ]
  },
  {
   "cell_type": "code",
   "execution_count": 8,
   "id": "bf7e4727",
   "metadata": {},
   "outputs": [
    {
     "name": "stdout",
     "output_type": "stream",
     "text": [
      "-5.3428571428571425 15.428571428571429 10.194285714285716\n"
     ]
    }
   ],
   "source": [
    "summation_x_y = df[\"x*y\"].sum()\n",
    "summation_x_squared = df[\"x^2\"].sum()\n",
    "summation_y_squared = df[\"y^2\"].sum()\n",
    "print(summation_x_y, summation_x_squared, summation_y_squared)"
   ]
  },
  {
   "cell_type": "code",
   "execution_count": 9,
   "id": "0eaee8ae",
   "metadata": {},
   "outputs": [
    {
     "data": {
      "text/plain": [
       "-0.4260222716215921"
      ]
     },
     "execution_count": 9,
     "metadata": {},
     "output_type": "execute_result"
    }
   ],
   "source": [
    "correlation = summation_x_y / (summation_x_squared * summation_y_squared)**0.5\n",
    "correlation"
   ]
  },
  {
   "cell_type": "code",
   "execution_count": 10,
   "id": "05bbbd29",
   "metadata": {},
   "outputs": [],
   "source": [
    "def getMean(numbers):\n",
    "    if len(numbers) == 0:\n",
    "        return None\n",
    "    else:\n",
    "        current_sum = 0\n",
    "        for i in numbers:\n",
    "            current_sum += i\n",
    "            current_avg = current_sum/len(numbers)\n",
    "        return current_avg"
   ]
  },
  {
   "cell_type": "code",
   "execution_count": 11,
   "id": "cf7f39f3",
   "metadata": {},
   "outputs": [],
   "source": [
    "def getStandardDeviation(numbers):\n",
    "    if len(numbers) == 0:\n",
    "        return 0\n",
    "    else:\n",
    "        mean = getMean(numbers)\n",
    "        std_deviation = 0\n",
    "        for i in numbers:\n",
    "            std_deviation += (i - mean)**2\n",
    "        return (std_deviation/len(numbers))**0.5"
   ]
  },
  {
   "cell_type": "code",
   "execution_count": 12,
   "id": "556ce855",
   "metadata": {},
   "outputs": [
    {
     "name": "stdout",
     "output_type": "stream",
     "text": [
      "1.4846149779161806 1.206783547539593\n"
     ]
    }
   ],
   "source": [
    "std_deviation_x = getStandardDeviation(df[\"x\"].tolist())\n",
    "std_deviation_y = getStandardDeviation(df[\"y\"].tolist())\n",
    "print(std_deviation_x, std_deviation_y)"
   ]
  },
  {
   "cell_type": "code",
   "execution_count": 13,
   "id": "3b9cc0da",
   "metadata": {},
   "outputs": [
    {
     "data": {
      "text/plain": [
       "-0.3462962962962962"
      ]
     },
     "execution_count": 13,
     "metadata": {},
     "output_type": "execute_result"
    }
   ],
   "source": [
    "m = correlation * (std_deviation_y / std_deviation_x)\n",
    "m"
   ]
  },
  {
   "cell_type": "code",
   "execution_count": 14,
   "id": "e3039250",
   "metadata": {},
   "outputs": [
    {
     "data": {
      "text/plain": [
       "4.109259259259259"
      ]
     },
     "execution_count": 14,
     "metadata": {},
     "output_type": "execute_result"
    }
   ],
   "source": [
    "c = df[\"Scores\"].mean() - m * df[\"Hours\"].mean()\n",
    "c"
   ]
  },
  {
   "cell_type": "code",
   "execution_count": 15,
   "id": "f853a0ad",
   "metadata": {},
   "outputs": [
    {
     "data": {
      "text/html": [
       "<div>\n",
       "<style scoped>\n",
       "    .dataframe tbody tr th:only-of-type {\n",
       "        vertical-align: middle;\n",
       "    }\n",
       "\n",
       "    .dataframe tbody tr th {\n",
       "        vertical-align: top;\n",
       "    }\n",
       "\n",
       "    .dataframe thead th {\n",
       "        text-align: right;\n",
       "    }\n",
       "</style>\n",
       "<table border=\"1\" class=\"dataframe\">\n",
       "  <thead>\n",
       "    <tr style=\"text-align: right;\">\n",
       "      <th></th>\n",
       "      <th>Hours</th>\n",
       "      <th>Scores</th>\n",
       "      <th>x</th>\n",
       "      <th>y</th>\n",
       "      <th>x*y</th>\n",
       "      <th>x^2</th>\n",
       "      <th>y^2</th>\n",
       "      <th>y_prediction</th>\n",
       "    </tr>\n",
       "  </thead>\n",
       "  <tbody>\n",
       "    <tr>\n",
       "      <th>0</th>\n",
       "      <td>3</td>\n",
       "      <td>1.0</td>\n",
       "      <td>-0.285714</td>\n",
       "      <td>-1.971429</td>\n",
       "      <td>0.563265</td>\n",
       "      <td>0.081633</td>\n",
       "      <td>3.886531</td>\n",
       "      <td>3.070370</td>\n",
       "    </tr>\n",
       "    <tr>\n",
       "      <th>1</th>\n",
       "      <td>4</td>\n",
       "      <td>3.0</td>\n",
       "      <td>0.714286</td>\n",
       "      <td>0.028571</td>\n",
       "      <td>0.020408</td>\n",
       "      <td>0.510204</td>\n",
       "      <td>0.000816</td>\n",
       "      <td>2.724074</td>\n",
       "    </tr>\n",
       "    <tr>\n",
       "      <th>2</th>\n",
       "      <td>1</td>\n",
       "      <td>5.0</td>\n",
       "      <td>-2.285714</td>\n",
       "      <td>2.028571</td>\n",
       "      <td>-4.636735</td>\n",
       "      <td>5.224490</td>\n",
       "      <td>4.115102</td>\n",
       "      <td>3.762963</td>\n",
       "    </tr>\n",
       "    <tr>\n",
       "      <th>3</th>\n",
       "      <td>2</td>\n",
       "      <td>4.0</td>\n",
       "      <td>-1.285714</td>\n",
       "      <td>1.028571</td>\n",
       "      <td>-1.322449</td>\n",
       "      <td>1.653061</td>\n",
       "      <td>1.057959</td>\n",
       "      <td>3.416667</td>\n",
       "    </tr>\n",
       "    <tr>\n",
       "      <th>4</th>\n",
       "      <td>4</td>\n",
       "      <td>2.0</td>\n",
       "      <td>0.714286</td>\n",
       "      <td>-0.971429</td>\n",
       "      <td>-0.693878</td>\n",
       "      <td>0.510204</td>\n",
       "      <td>0.943673</td>\n",
       "      <td>2.724074</td>\n",
       "    </tr>\n",
       "    <tr>\n",
       "      <th>5</th>\n",
       "      <td>6</td>\n",
       "      <td>3.2</td>\n",
       "      <td>2.714286</td>\n",
       "      <td>0.228571</td>\n",
       "      <td>0.620408</td>\n",
       "      <td>7.367347</td>\n",
       "      <td>0.052245</td>\n",
       "      <td>2.031481</td>\n",
       "    </tr>\n",
       "    <tr>\n",
       "      <th>6</th>\n",
       "      <td>3</td>\n",
       "      <td>2.6</td>\n",
       "      <td>-0.285714</td>\n",
       "      <td>-0.371429</td>\n",
       "      <td>0.106122</td>\n",
       "      <td>0.081633</td>\n",
       "      <td>0.137959</td>\n",
       "      <td>3.070370</td>\n",
       "    </tr>\n",
       "  </tbody>\n",
       "</table>\n",
       "</div>"
      ],
      "text/plain": [
       "   Hours  Scores         x         y       x*y       x^2       y^2  \\\n",
       "0      3     1.0 -0.285714 -1.971429  0.563265  0.081633  3.886531   \n",
       "1      4     3.0  0.714286  0.028571  0.020408  0.510204  0.000816   \n",
       "2      1     5.0 -2.285714  2.028571 -4.636735  5.224490  4.115102   \n",
       "3      2     4.0 -1.285714  1.028571 -1.322449  1.653061  1.057959   \n",
       "4      4     2.0  0.714286 -0.971429 -0.693878  0.510204  0.943673   \n",
       "5      6     3.2  2.714286  0.228571  0.620408  7.367347  0.052245   \n",
       "6      3     2.6 -0.285714 -0.371429  0.106122  0.081633  0.137959   \n",
       "\n",
       "   y_prediction  \n",
       "0      3.070370  \n",
       "1      2.724074  \n",
       "2      3.762963  \n",
       "3      3.416667  \n",
       "4      2.724074  \n",
       "5      2.031481  \n",
       "6      3.070370  "
      ]
     },
     "execution_count": 15,
     "metadata": {},
     "output_type": "execute_result"
    }
   ],
   "source": [
    "df[\"y_prediction\"] = m * df[\"Hours\"] + c\n",
    "df"
   ]
  },
  {
   "cell_type": "code",
   "execution_count": 16,
   "id": "b199cf3e",
   "metadata": {},
   "outputs": [
    {
     "data": {
      "image/png": "[encoded data removed]",
      "text/plain": [
       "<Figure size 432x288 with 1 Axes>"
      ]
     },
     "metadata": {
      "needs_background": "light"
     },
     "output_type": "display_data"
    }
   ],
   "source": [
    "plot1 = plt.scatter(df[\"Hours\"], df[\"Scores\"])\n",
    "plot2 = plt.scatter(df[\"Hours\"], df[\"y_prediction\"])\n",
    "plt.show()"
   ]
  },
  {
   "cell_type": "code",
   "execution_count": 17,
   "id": "06a6e2d1",
   "metadata": {},
   "outputs": [
    {
     "data": {
      "text/html": [
       "<div>\n",
       "<style scoped>\n",
       "    .dataframe tbody tr th:only-of-type {\n",
       "        vertical-align: middle;\n",
       "    }\n",
       "\n",
       "    .dataframe tbody tr th {\n",
       "        vertical-align: top;\n",
       "    }\n",
       "\n",
       "    .dataframe thead th {\n",
       "        text-align: right;\n",
       "    }\n",
       "</style>\n",
       "<table border=\"1\" class=\"dataframe\">\n",
       "  <thead>\n",
       "    <tr style=\"text-align: right;\">\n",
       "      <th></th>\n",
       "      <th>Hours</th>\n",
       "      <th>Scores</th>\n",
       "      <th>x</th>\n",
       "      <th>y</th>\n",
       "      <th>x*y</th>\n",
       "      <th>x^2</th>\n",
       "      <th>y^2</th>\n",
       "      <th>y_prediction</th>\n",
       "      <th>cost</th>\n",
       "    </tr>\n",
       "  </thead>\n",
       "  <tbody>\n",
       "    <tr>\n",
       "      <th>0</th>\n",
       "      <td>3</td>\n",
       "      <td>1.0</td>\n",
       "      <td>-0.285714</td>\n",
       "      <td>-1.971429</td>\n",
       "      <td>0.563265</td>\n",
       "      <td>0.081633</td>\n",
       "      <td>3.886531</td>\n",
       "      <td>3.070370</td>\n",
       "      <td>-2.070370</td>\n",
       "    </tr>\n",
       "    <tr>\n",
       "      <th>1</th>\n",
       "      <td>4</td>\n",
       "      <td>3.0</td>\n",
       "      <td>0.714286</td>\n",
       "      <td>0.028571</td>\n",
       "      <td>0.020408</td>\n",
       "      <td>0.510204</td>\n",
       "      <td>0.000816</td>\n",
       "      <td>2.724074</td>\n",
       "      <td>0.275926</td>\n",
       "    </tr>\n",
       "    <tr>\n",
       "      <th>2</th>\n",
       "      <td>1</td>\n",
       "      <td>5.0</td>\n",
       "      <td>-2.285714</td>\n",
       "      <td>2.028571</td>\n",
       "      <td>-4.636735</td>\n",
       "      <td>5.224490</td>\n",
       "      <td>4.115102</td>\n",
       "      <td>3.762963</td>\n",
       "      <td>1.237037</td>\n",
       "    </tr>\n",
       "    <tr>\n",
       "      <th>3</th>\n",
       "      <td>2</td>\n",
       "      <td>4.0</td>\n",
       "      <td>-1.285714</td>\n",
       "      <td>1.028571</td>\n",
       "      <td>-1.322449</td>\n",
       "      <td>1.653061</td>\n",
       "      <td>1.057959</td>\n",
       "      <td>3.416667</td>\n",
       "      <td>0.583333</td>\n",
       "    </tr>\n",
       "    <tr>\n",
       "      <th>4</th>\n",
       "      <td>4</td>\n",
       "      <td>2.0</td>\n",
       "      <td>0.714286</td>\n",
       "      <td>-0.971429</td>\n",
       "      <td>-0.693878</td>\n",
       "      <td>0.510204</td>\n",
       "      <td>0.943673</td>\n",
       "      <td>2.724074</td>\n",
       "      <td>-0.724074</td>\n",
       "    </tr>\n",
       "    <tr>\n",
       "      <th>5</th>\n",
       "      <td>6</td>\n",
       "      <td>3.2</td>\n",
       "      <td>2.714286</td>\n",
       "      <td>0.228571</td>\n",
       "      <td>0.620408</td>\n",
       "      <td>7.367347</td>\n",
       "      <td>0.052245</td>\n",
       "      <td>2.031481</td>\n",
       "      <td>1.168519</td>\n",
       "    </tr>\n",
       "    <tr>\n",
       "      <th>6</th>\n",
       "      <td>3</td>\n",
       "      <td>2.6</td>\n",
       "      <td>-0.285714</td>\n",
       "      <td>-0.371429</td>\n",
       "      <td>0.106122</td>\n",
       "      <td>0.081633</td>\n",
       "      <td>0.137959</td>\n",
       "      <td>3.070370</td>\n",
       "      <td>-0.470370</td>\n",
       "    </tr>\n",
       "  </tbody>\n",
       "</table>\n",
       "</div>"
      ],
      "text/plain": [
       "   Hours  Scores         x         y       x*y       x^2       y^2  \\\n",
       "0      3     1.0 -0.285714 -1.971429  0.563265  0.081633  3.886531   \n",
       "1      4     3.0  0.714286  0.028571  0.020408  0.510204  0.000816   \n",
       "2      1     5.0 -2.285714  2.028571 -4.636735  5.224490  4.115102   \n",
       "3      2     4.0 -1.285714  1.028571 -1.322449  1.653061  1.057959   \n",
       "4      4     2.0  0.714286 -0.971429 -0.693878  0.510204  0.943673   \n",
       "5      6     3.2  2.714286  0.228571  0.620408  7.367347  0.052245   \n",
       "6      3     2.6 -0.285714 -0.371429  0.106122  0.081633  0.137959   \n",
       "\n",
       "   y_prediction      cost  \n",
       "0      3.070370 -2.070370  \n",
       "1      2.724074  0.275926  \n",
       "2      3.762963  1.237037  \n",
       "3      3.416667  0.583333  \n",
       "4      2.724074 -0.724074  \n",
       "5      2.031481  1.168519  \n",
       "6      3.070370 -0.470370  "
      ]
     },
     "execution_count": 17,
     "metadata": {},
     "output_type": "execute_result"
    }
   ],
   "source": [
    "df[\"cost\"]=df[\"Scores\"]-df[\"y_prediction\"]\n",
    "df"
   ]
  },
  {
   "cell_type": "code",
   "execution_count": 18,
   "id": "51b66d9b",
   "metadata": {},
   "outputs": [
    {
     "data": {
      "text/plain": [
       "-8.881784197001252e-16"
      ]
     },
     "execution_count": 18,
     "metadata": {},
     "output_type": "execute_result"
    }
   ],
   "source": [
    "cost=(df[\"cost\"].sum())\n",
    "cost"
   ]
  },
  {
   "cell_type": "code",
   "execution_count": 19,
   "id": "581bb01d",
   "metadata": {},
   "outputs": [
    {
     "data": {
      "text/html": [
       "<div>\n",
       "<style scoped>\n",
       "    .dataframe tbody tr th:only-of-type {\n",
       "        vertical-align: middle;\n",
       "    }\n",
       "\n",
       "    .dataframe tbody tr th {\n",
       "        vertical-align: top;\n",
       "    }\n",
       "\n",
       "    .dataframe thead th {\n",
       "        text-align: right;\n",
       "    }\n",
       "</style>\n",
       "<table border=\"1\" class=\"dataframe\">\n",
       "  <thead>\n",
       "    <tr style=\"text-align: right;\">\n",
       "      <th></th>\n",
       "      <th>Hours</th>\n",
       "      <th>Scores</th>\n",
       "      <th>x</th>\n",
       "      <th>y</th>\n",
       "      <th>x*y</th>\n",
       "      <th>x^2</th>\n",
       "      <th>y^2</th>\n",
       "      <th>y_prediction</th>\n",
       "      <th>cost</th>\n",
       "      <th>SSE</th>\n",
       "    </tr>\n",
       "  </thead>\n",
       "  <tbody>\n",
       "    <tr>\n",
       "      <th>0</th>\n",
       "      <td>3</td>\n",
       "      <td>1.0</td>\n",
       "      <td>-0.285714</td>\n",
       "      <td>-1.971429</td>\n",
       "      <td>0.563265</td>\n",
       "      <td>0.081633</td>\n",
       "      <td>3.886531</td>\n",
       "      <td>3.070370</td>\n",
       "      <td>-2.070370</td>\n",
       "      <td>4.286433</td>\n",
       "    </tr>\n",
       "    <tr>\n",
       "      <th>1</th>\n",
       "      <td>4</td>\n",
       "      <td>3.0</td>\n",
       "      <td>0.714286</td>\n",
       "      <td>0.028571</td>\n",
       "      <td>0.020408</td>\n",
       "      <td>0.510204</td>\n",
       "      <td>0.000816</td>\n",
       "      <td>2.724074</td>\n",
       "      <td>0.275926</td>\n",
       "      <td>0.076135</td>\n",
       "    </tr>\n",
       "    <tr>\n",
       "      <th>2</th>\n",
       "      <td>1</td>\n",
       "      <td>5.0</td>\n",
       "      <td>-2.285714</td>\n",
       "      <td>2.028571</td>\n",
       "      <td>-4.636735</td>\n",
       "      <td>5.224490</td>\n",
       "      <td>4.115102</td>\n",
       "      <td>3.762963</td>\n",
       "      <td>1.237037</td>\n",
       "      <td>1.530261</td>\n",
       "    </tr>\n",
       "    <tr>\n",
       "      <th>3</th>\n",
       "      <td>2</td>\n",
       "      <td>4.0</td>\n",
       "      <td>-1.285714</td>\n",
       "      <td>1.028571</td>\n",
       "      <td>-1.322449</td>\n",
       "      <td>1.653061</td>\n",
       "      <td>1.057959</td>\n",
       "      <td>3.416667</td>\n",
       "      <td>0.583333</td>\n",
       "      <td>0.340278</td>\n",
       "    </tr>\n",
       "    <tr>\n",
       "      <th>4</th>\n",
       "      <td>4</td>\n",
       "      <td>2.0</td>\n",
       "      <td>0.714286</td>\n",
       "      <td>-0.971429</td>\n",
       "      <td>-0.693878</td>\n",
       "      <td>0.510204</td>\n",
       "      <td>0.943673</td>\n",
       "      <td>2.724074</td>\n",
       "      <td>-0.724074</td>\n",
       "      <td>0.524283</td>\n",
       "    </tr>\n",
       "    <tr>\n",
       "      <th>5</th>\n",
       "      <td>6</td>\n",
       "      <td>3.2</td>\n",
       "      <td>2.714286</td>\n",
       "      <td>0.228571</td>\n",
       "      <td>0.620408</td>\n",
       "      <td>7.367347</td>\n",
       "      <td>0.052245</td>\n",
       "      <td>2.031481</td>\n",
       "      <td>1.168519</td>\n",
       "      <td>1.365436</td>\n",
       "    </tr>\n",
       "    <tr>\n",
       "      <th>6</th>\n",
       "      <td>3</td>\n",
       "      <td>2.6</td>\n",
       "      <td>-0.285714</td>\n",
       "      <td>-0.371429</td>\n",
       "      <td>0.106122</td>\n",
       "      <td>0.081633</td>\n",
       "      <td>0.137959</td>\n",
       "      <td>3.070370</td>\n",
       "      <td>-0.470370</td>\n",
       "      <td>0.221248</td>\n",
       "    </tr>\n",
       "  </tbody>\n",
       "</table>\n",
       "</div>"
      ],
      "text/plain": [
       "   Hours  Scores         x         y       x*y       x^2       y^2  \\\n",
       "0      3     1.0 -0.285714 -1.971429  0.563265  0.081633  3.886531   \n",
       "1      4     3.0  0.714286  0.028571  0.020408  0.510204  0.000816   \n",
       "2      1     5.0 -2.285714  2.028571 -4.636735  5.224490  4.115102   \n",
       "3      2     4.0 -1.285714  1.028571 -1.322449  1.653061  1.057959   \n",
       "4      4     2.0  0.714286 -0.971429 -0.693878  0.510204  0.943673   \n",
       "5      6     3.2  2.714286  0.228571  0.620408  7.367347  0.052245   \n",
       "6      3     2.6 -0.285714 -0.371429  0.106122  0.081633  0.137959   \n",
       "\n",
       "   y_prediction      cost       SSE  \n",
       "0      3.070370 -2.070370  4.286433  \n",
       "1      2.724074  0.275926  0.076135  \n",
       "2      3.762963  1.237037  1.530261  \n",
       "3      3.416667  0.583333  0.340278  \n",
       "4      2.724074 -0.724074  0.524283  \n",
       "5      2.031481  1.168519  1.365436  \n",
       "6      3.070370 -0.470370  0.221248  "
      ]
     },
     "execution_count": 19,
     "metadata": {},
     "output_type": "execute_result"
    }
   ],
   "source": [
    "df[\"SSE\"]=df[\"cost\"]**2\n",
    "df"
   ]
  },
  {
   "cell_type": "code",
   "execution_count": 24,
   "id": "adccf3da",
   "metadata": {},
   "outputs": [
    {
     "data": {
      "text/plain": [
       "8.344074074074074"
      ]
     },
     "execution_count": 24,
     "metadata": {},
     "output_type": "execute_result"
    }
   ],
   "source": [
    "sse=df[\"SSE\"].sum()\n",
    "sse"
   ]
  },
  {
   "cell_type": "code",
   "execution_count": 25,
   "id": "f4e866d3",
   "metadata": {},
   "outputs": [
    {
     "data": {
      "text/plain": [
       "2.9714285714285715"
      ]
     },
     "execution_count": 25,
     "metadata": {},
     "output_type": "execute_result"
    }
   ],
   "source": [
    "#sst-sse=ssr\n",
    "df[\"Scores\"].mean()"
   ]
  },
  {
   "cell_type": "code",
   "execution_count": 27,
   "id": "c4889ae6",
   "metadata": {},
   "outputs": [
    {
     "data": {
      "text/html": [
       "<div>\n",
       "<style scoped>\n",
       "    .dataframe tbody tr th:only-of-type {\n",
       "        vertical-align: middle;\n",
       "    }\n",
       "\n",
       "    .dataframe tbody tr th {\n",
       "        vertical-align: top;\n",
       "    }\n",
       "\n",
       "    .dataframe thead th {\n",
       "        text-align: right;\n",
       "    }\n",
       "</style>\n",
       "<table border=\"1\" class=\"dataframe\">\n",
       "  <thead>\n",
       "    <tr style=\"text-align: right;\">\n",
       "      <th></th>\n",
       "      <th>Hours</th>\n",
       "      <th>Scores</th>\n",
       "      <th>x</th>\n",
       "      <th>y</th>\n",
       "      <th>x*y</th>\n",
       "      <th>x^2</th>\n",
       "      <th>y^2</th>\n",
       "      <th>y_prediction</th>\n",
       "      <th>cost</th>\n",
       "      <th>SSE</th>\n",
       "      <th>SST</th>\n",
       "    </tr>\n",
       "  </thead>\n",
       "  <tbody>\n",
       "    <tr>\n",
       "      <th>0</th>\n",
       "      <td>3</td>\n",
       "      <td>1.0</td>\n",
       "      <td>-0.285714</td>\n",
       "      <td>-1.971429</td>\n",
       "      <td>0.563265</td>\n",
       "      <td>0.081633</td>\n",
       "      <td>3.886531</td>\n",
       "      <td>3.070370</td>\n",
       "      <td>-2.070370</td>\n",
       "      <td>4.286433</td>\n",
       "      <td>3.886531</td>\n",
       "    </tr>\n",
       "    <tr>\n",
       "      <th>1</th>\n",
       "      <td>4</td>\n",
       "      <td>3.0</td>\n",
       "      <td>0.714286</td>\n",
       "      <td>0.028571</td>\n",
       "      <td>0.020408</td>\n",
       "      <td>0.510204</td>\n",
       "      <td>0.000816</td>\n",
       "      <td>2.724074</td>\n",
       "      <td>0.275926</td>\n",
       "      <td>0.076135</td>\n",
       "      <td>0.000816</td>\n",
       "    </tr>\n",
       "    <tr>\n",
       "      <th>2</th>\n",
       "      <td>1</td>\n",
       "      <td>5.0</td>\n",
       "      <td>-2.285714</td>\n",
       "      <td>2.028571</td>\n",
       "      <td>-4.636735</td>\n",
       "      <td>5.224490</td>\n",
       "      <td>4.115102</td>\n",
       "      <td>3.762963</td>\n",
       "      <td>1.237037</td>\n",
       "      <td>1.530261</td>\n",
       "      <td>4.115102</td>\n",
       "    </tr>\n",
       "    <tr>\n",
       "      <th>3</th>\n",
       "      <td>2</td>\n",
       "      <td>4.0</td>\n",
       "      <td>-1.285714</td>\n",
       "      <td>1.028571</td>\n",
       "      <td>-1.322449</td>\n",
       "      <td>1.653061</td>\n",
       "      <td>1.057959</td>\n",
       "      <td>3.416667</td>\n",
       "      <td>0.583333</td>\n",
       "      <td>0.340278</td>\n",
       "      <td>1.057959</td>\n",
       "    </tr>\n",
       "    <tr>\n",
       "      <th>4</th>\n",
       "      <td>4</td>\n",
       "      <td>2.0</td>\n",
       "      <td>0.714286</td>\n",
       "      <td>-0.971429</td>\n",
       "      <td>-0.693878</td>\n",
       "      <td>0.510204</td>\n",
       "      <td>0.943673</td>\n",
       "      <td>2.724074</td>\n",
       "      <td>-0.724074</td>\n",
       "      <td>0.524283</td>\n",
       "      <td>0.943673</td>\n",
       "    </tr>\n",
       "    <tr>\n",
       "      <th>5</th>\n",
       "      <td>6</td>\n",
       "      <td>3.2</td>\n",
       "      <td>2.714286</td>\n",
       "      <td>0.228571</td>\n",
       "      <td>0.620408</td>\n",
       "      <td>7.367347</td>\n",
       "      <td>0.052245</td>\n",
       "      <td>2.031481</td>\n",
       "      <td>1.168519</td>\n",
       "      <td>1.365436</td>\n",
       "      <td>0.052245</td>\n",
       "    </tr>\n",
       "    <tr>\n",
       "      <th>6</th>\n",
       "      <td>3</td>\n",
       "      <td>2.6</td>\n",
       "      <td>-0.285714</td>\n",
       "      <td>-0.371429</td>\n",
       "      <td>0.106122</td>\n",
       "      <td>0.081633</td>\n",
       "      <td>0.137959</td>\n",
       "      <td>3.070370</td>\n",
       "      <td>-0.470370</td>\n",
       "      <td>0.221248</td>\n",
       "      <td>0.137959</td>\n",
       "    </tr>\n",
       "  </tbody>\n",
       "</table>\n",
       "</div>"
      ],
      "text/plain": [
       "   Hours  Scores         x         y       x*y       x^2       y^2  \\\n",
       "0      3     1.0 -0.285714 -1.971429  0.563265  0.081633  3.886531   \n",
       "1      4     3.0  0.714286  0.028571  0.020408  0.510204  0.000816   \n",
       "2      1     5.0 -2.285714  2.028571 -4.636735  5.224490  4.115102   \n",
       "3      2     4.0 -1.285714  1.028571 -1.322449  1.653061  1.057959   \n",
       "4      4     2.0  0.714286 -0.971429 -0.693878  0.510204  0.943673   \n",
       "5      6     3.2  2.714286  0.228571  0.620408  7.367347  0.052245   \n",
       "6      3     2.6 -0.285714 -0.371429  0.106122  0.081633  0.137959   \n",
       "\n",
       "   y_prediction      cost       SSE       SST  \n",
       "0      3.070370 -2.070370  4.286433  3.886531  \n",
       "1      2.724074  0.275926  0.076135  0.000816  \n",
       "2      3.762963  1.237037  1.530261  4.115102  \n",
       "3      3.416667  0.583333  0.340278  1.057959  \n",
       "4      2.724074 -0.724074  0.524283  0.943673  \n",
       "5      2.031481  1.168519  1.365436  0.052245  \n",
       "6      3.070370 -0.470370  0.221248  0.137959  "
      ]
     },
     "execution_count": 27,
     "metadata": {},
     "output_type": "execute_result"
    }
   ],
   "source": [
    "df[\"SST\"]=(df[\"Scores\"]-df[\"Scores\"].mean())**2\n",
    "df"
   ]
  },
  {
   "cell_type": "code",
   "execution_count": 28,
   "id": "83113d50",
   "metadata": {},
   "outputs": [
    {
     "data": {
      "text/plain": [
       "10.194285714285716"
      ]
     },
     "execution_count": 28,
     "metadata": {},
     "output_type": "execute_result"
    }
   ],
   "source": [
    "sst=df[\"SST\"].sum()\n",
    "sst"
   ]
  },
  {
   "cell_type": "code",
   "execution_count": 29,
   "id": "b8d1c540",
   "metadata": {},
   "outputs": [
    {
     "data": {
      "text/plain": [
       "1.8502116402116418"
      ]
     },
     "execution_count": 29,
     "metadata": {},
     "output_type": "execute_result"
    }
   ],
   "source": [
    "ssr=sst-sse\n",
    "ssr\n"
   ]
  },
  {
   "cell_type": "code",
   "execution_count": null,
   "id": "a671b589",
   "metadata": {},
   "outputs": [],
   "source": []
  }
 ],
 "metadata": {
  "kernelspec": {
   "display_name": "Python 3 (ipykernel)",
   "language": "python",
   "name": "python3"
  },
  "language_info": {
   "codemirror_mode": {
    "name": "ipython",
    "version": 3
   },
   "file_extension": ".py",
   "mimetype": "text/x-python",
   "name": "python",
   "nbconvert_exporter": "python",
   "pygments_lexer": "ipython3",
   "version": "3.7.11"
  }
 },
 "nbformat": 4,
 "nbformat_minor": 5
}
